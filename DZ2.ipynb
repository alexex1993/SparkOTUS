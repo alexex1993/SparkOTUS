{
 "cells": [
  {
   "cell_type": "code",
   "execution_count": 11,
   "id": "7242cac6-59e2-4d1f-b0eb-03dd7409358e",
   "metadata": {},
   "outputs": [],
   "source": [
    "import findspark\n",
    "findspark.init(\"/opt/spark\")"
   ]
  },
  {
   "cell_type": "code",
   "execution_count": 16,
   "id": "63c37f32-eaaa-4f1b-9cf7-41e28182913b",
   "metadata": {},
   "outputs": [
    {
     "name": "stdout",
     "output_type": "stream",
     "text": [
      "mkdir: `/tmp/hdfs-cli-example2': File exists\n"
     ]
    }
   ],
   "source": [
    "!hdfs dfs -mkdir /tmp/hdfs-cli-example2"
   ]
  },
  {
   "cell_type": "code",
   "execution_count": 17,
   "id": "f4e66e8b-3e3a-4528-bfec-1eac1c064505",
   "metadata": {},
   "outputs": [],
   "source": [
    "!hdfs dfs -put bank_transactions_data_2.csv /tmp/hdfs-cli-example2/"
   ]
  },
  {
   "cell_type": "code",
   "execution_count": 18,
   "id": "223a8998-20e6-4e12-8cb6-0c914b9e1ce4",
   "metadata": {},
   "outputs": [
    {
     "name": "stdout",
     "output_type": "stream",
     "text": [
      "Found 1 items\n",
      "-rw-r--r--   2 jupyter supergroup     344980 2024-12-04 12:34 /tmp/hdfs-cli-example2/bank_transactions_data_2.csv\n"
     ]
    }
   ],
   "source": [
    "! hdfs dfs -ls /tmp/hdfs-cli-example2"
   ]
  },
  {
   "cell_type": "code",
   "execution_count": 19,
   "id": "90c2bf70-cd19-42be-b301-620b445816c8",
   "metadata": {},
   "outputs": [],
   "source": [
    "from pyspark.sql import SparkSession"
   ]
  },
  {
   "cell_type": "code",
   "execution_count": 20,
   "id": "28cf2f65-945f-41bc-8c2f-bdbd997b0855",
   "metadata": {},
   "outputs": [
    {
     "name": "stderr",
     "output_type": "stream",
     "text": [
      "Setting default log level to \"WARN\".\n",
      "To adjust logging level use sc.setLogLevel(newLevel). For SparkR, use setLogLevel(newLevel).\n"
     ]
    }
   ],
   "source": [
    "spark = SparkSession.builder\\\n",
    ".enableHiveSupport()\\\n",
    ".getOrCreate()\n"
   ]
  },
  {
   "cell_type": "code",
   "execution_count": 48,
   "id": "9922bd40-f287-49a9-9b17-4cddd1cd0145",
   "metadata": {},
   "outputs": [
    {
     "data": {
      "text/plain": [
       "DataFrame[]"
      ]
     },
     "execution_count": 48,
     "metadata": {},
     "output_type": "execute_result"
    }
   ],
   "source": [
    "spark.sql(\"\"\" \n",
    "CREATE EXTERNAL TABLE transactions (\n",
    "    TransactionID STRING,\n",
    "    AccountID STRING,\n",
    "    TransactionAmount DECIMAL(10,2),\n",
    "    TransactionDate TIMESTAMP,\n",
    "    TransactionType STRING,\n",
    "    Location STRING,\n",
    "    DeviceID STRING,\n",
    "    IP_Address STRING,\n",
    "    MerchantID STRING,\n",
    "    Channel STRING,\n",
    "    CustomerAge INT,\n",
    "    CustomerOccupation STRING,\n",
    "    TransactionDuration INT,\n",
    "    LoginAttempts INT,\n",
    "    AccountBalance DECIMAL(10,2),\n",
    "    PreviousTransactionDate TIMESTAMP\n",
    ")\n",
    "ROW FORMAT SERDE 'org.apache.hadoop.hive.serde2.OpenCSVSerde'\n",
    "WITH SERDEPROPERTIES (\n",
    "    \"separatorChar\" = \",\"\n",
    ")\n",
    "STORED AS TEXTFILE\n",
    "LOCATION \"/tmp/hdfs-cli-example2/\"\n",
    "TBLPROPERTIES (\"skip.header.line.count\" = \"1\");\n",
    "\n",
    "\n",
    "\"\"\")"
   ]
  },
  {
   "cell_type": "code",
   "execution_count": 52,
   "id": "651684d2-61d8-456d-8d90-b049f57c949c",
   "metadata": {},
   "outputs": [],
   "source": [
    "!hdfs dfs -mkdir /tmp/dz2/transactions_part"
   ]
  },
  {
   "cell_type": "code",
   "execution_count": 53,
   "id": "13d8c215-97e3-471c-8d09-59de72d82b97",
   "metadata": {},
   "outputs": [
    {
     "data": {
      "text/plain": [
       "DataFrame[]"
      ]
     },
     "execution_count": 53,
     "metadata": {},
     "output_type": "execute_result"
    }
   ],
   "source": [
    "spark.sql(\"\"\" \n",
    "CREATE TABLE transactions_partitioned (\n",
    "    TransactionID STRING,\n",
    "    AccountID STRING,\n",
    "    TransactionAmount DECIMAL(10,2),\n",
    "    TransactionDate TIMESTAMP,\n",
    "    TransactionType STRING,\n",
    "    Location STRING,\n",
    "    DeviceID STRING,\n",
    "    IP_Address STRING,\n",
    "    MerchantID STRING,\n",
    "    Channel STRING,\n",
    "    CustomerAge INT,\n",
    "    CustomerOccupation STRING,\n",
    "    TransactionDuration INT,\n",
    "    LoginAttempts INT,\n",
    "    AccountBalance DECIMAL(10,2),\n",
    "    PreviousTransactionDate TIMESTAMP\n",
    ")\n",
    "PARTITIONED BY (year INT)\n",
    "STORED AS TEXTFILE\n",
    "LOCATION '/tmp/dz2/transactions_part';\n",
    "\n",
    "\"\"\")"
   ]
  },
  {
   "cell_type": "code",
   "execution_count": 60,
   "id": "4d7311bc-d833-4bdf-83d4-74313ecd64d5",
   "metadata": {},
   "outputs": [
    {
     "name": "stderr",
     "output_type": "stream",
     "text": [
      "24/12/05 06:10:26 WARN HiveExternalCatalog: The table schema given by Hive metastore(struct<transactionid:string,accountid:string,transactionamount:string,transactiondate:string,transactiontype:string,location:string,deviceid:string,ip_address:string,merchantid:string,channel:string,customerage:string,customeroccupation:string,transactionduration:string,loginattempts:string,accountbalance:string,previoustransactiondate:string>) is different from the schema when this table was created by Spark SQL(struct<TransactionID:string,AccountID:string,TransactionAmount:decimal(10,2),TransactionDate:timestamp,TransactionType:string,Location:string,DeviceID:string,IP_Address:string,MerchantID:string,Channel:string,CustomerAge:int,CustomerOccupation:string,TransactionDuration:int,LoginAttempts:int,AccountBalance:decimal(10,2),PreviousTransactionDate:timestamp>). We have to fall back to the table schema from Hive metastore which is not case preserving.\n",
      "                                                                                \r"
     ]
    },
    {
     "data": {
      "text/plain": [
       "DataFrame[]"
      ]
     },
     "execution_count": 60,
     "metadata": {},
     "output_type": "execute_result"
    }
   ],
   "source": [
    "spark.sql(\"\"\" \n",
    "INSERT INTO TABLE transactions_partitioned PARTITION (year = 2023)\n",
    "SELECT \n",
    "    TransactionID,\n",
    "    AccountID,\n",
    "    CAST(TransactionAmount AS DECIMAL(10,2)) AS TransactionAmount,\n",
    "    CAST(TransactionDate AS TIMESTAMP) AS TransactionDate,\n",
    "    TransactionType,\n",
    "    Location,\n",
    "    DeviceID,\n",
    "    IP_Address,\n",
    "    MerchantID,\n",
    "    Channel,\n",
    "    CAST(CustomerAge AS INT) AS CustomerAge,\n",
    "    CustomerOccupation,\n",
    "    CAST(TransactionDuration AS INT) AS TransactionDuration,\n",
    "    CAST(LoginAttempts AS INT) AS LoginAttempts,\n",
    "    CAST(AccountBalance AS DECIMAL(10,2)) AS AccountBalance,\n",
    "    CAST(PreviousTransactionDate AS TIMESTAMP) AS PreviousTransactionDate\n",
    "FROM transactions\n",
    "WHERE YEAR(CAST(TransactionDate AS TIMESTAMP)) = 2023\n",
    "\"\"\")"
   ]
  },
  {
   "cell_type": "code",
   "execution_count": 61,
   "id": "fa08eace-6acb-41fa-b3a0-521af22075e0",
   "metadata": {},
   "outputs": [
    {
     "name": "stderr",
     "output_type": "stream",
     "text": [
      "24/12/05 06:10:42 WARN HiveExternalCatalog: The table schema given by Hive metastore(struct<transactionid:string,accountid:string,transactionamount:string,transactiondate:string,transactiontype:string,location:string,deviceid:string,ip_address:string,merchantid:string,channel:string,customerage:string,customeroccupation:string,transactionduration:string,loginattempts:string,accountbalance:string,previoustransactiondate:string>) is different from the schema when this table was created by Spark SQL(struct<TransactionID:string,AccountID:string,TransactionAmount:decimal(10,2),TransactionDate:timestamp,TransactionType:string,Location:string,DeviceID:string,IP_Address:string,MerchantID:string,Channel:string,CustomerAge:int,CustomerOccupation:string,TransactionDuration:int,LoginAttempts:int,AccountBalance:decimal(10,2),PreviousTransactionDate:timestamp>). We have to fall back to the table schema from Hive metastore which is not case preserving.\n"
     ]
    },
    {
     "data": {
      "text/plain": [
       "DataFrame[]"
      ]
     },
     "execution_count": 61,
     "metadata": {},
     "output_type": "execute_result"
    }
   ],
   "source": [
    "spark.sql(\"\"\" \n",
    "INSERT INTO TABLE transactions_partitioned PARTITION (year = 2024)\n",
    "SELECT \n",
    "    TransactionID,\n",
    "    AccountID,\n",
    "    CAST(TransactionAmount AS DECIMAL(10,2)) AS TransactionAmount,\n",
    "    CAST(TransactionDate AS TIMESTAMP) AS TransactionDate,\n",
    "    TransactionType,\n",
    "    Location,\n",
    "    DeviceID,\n",
    "    IP_Address,\n",
    "    MerchantID,\n",
    "    Channel,\n",
    "    CAST(CustomerAge AS INT) AS CustomerAge,\n",
    "    CustomerOccupation,\n",
    "    CAST(TransactionDuration AS INT) AS TransactionDuration,\n",
    "    CAST(LoginAttempts AS INT) AS LoginAttempts,\n",
    "    CAST(AccountBalance AS DECIMAL(10,2)) AS AccountBalance,\n",
    "    CAST(PreviousTransactionDate AS TIMESTAMP) AS PreviousTransactionDate\n",
    "FROM transactions\n",
    "WHERE YEAR(CAST(TransactionDate AS TIMESTAMP)) = 2024\n",
    "\"\"\")"
   ]
  },
  {
   "cell_type": "code",
   "execution_count": 63,
   "id": "8d7ae875-4653-41fe-b717-e3a9c0da5b2b",
   "metadata": {},
   "outputs": [
    {
     "name": "stdout",
     "output_type": "stream",
     "text": [
      "+-------------+---------+-----------------+-------------------+---------------+--------------+--------+---------------+----------+-------+-----------+------------------+-------------------+-------------+--------------+-----------------------+\n",
      "|TransactionID|AccountID|TransactionAmount|    TransactionDate|TransactionType|      Location|DeviceID|     IP_Address|MerchantID|Channel|CustomerAge|CustomerOccupation|TransactionDuration|LoginAttempts|AccountBalance|PreviousTransactionDate|\n",
      "+-------------+---------+-----------------+-------------------+---------------+--------------+--------+---------------+----------+-------+-----------+------------------+-------------------+-------------+--------------+-----------------------+\n",
      "|     TX000001|  AC00128|            14.09|2023-04-11 16:29:14|          Debit|     San Diego| D000380| 162.198.218.92|      M015|    ATM|         70|            Doctor|                 81|            1|       5112.21|    2024-11-04 08:08:08|\n",
      "|     TX000002|  AC00455|           376.24|2023-06-27 16:44:19|          Debit|       Houston| D000051|    13.149.61.4|      M052|    ATM|         68|            Doctor|                141|            1|      13758.91|    2024-11-04 08:09:35|\n",
      "|     TX000003|  AC00019|           126.29|2023-07-10 18:16:08|          Debit|          Mesa| D000235| 215.97.143.157|      M009| Online|         19|           Student|                 56|            1|       1122.35|    2024-11-04 08:07:04|\n",
      "|     TX000004|  AC00070|           184.50|2023-05-05 16:32:11|          Debit|       Raleigh| D000187| 200.13.225.150|      M002| Online|         26|           Student|                 25|            1|       8569.06|    2024-11-04 08:09:06|\n",
      "|     TX000005|  AC00411|            13.45|2023-10-16 17:51:24|         Credit|       Atlanta| D000308|   65.164.3.100|      M091| Online|         26|           Student|                198|            1|       7429.40|    2024-11-04 08:06:39|\n",
      "|     TX000006|  AC00393|            92.15|2023-04-03 17:15:01|          Debit| Oklahoma City| D000579| 117.67.192.211|      M054|    ATM|         18|           Student|                172|            1|        781.68|    2024-11-04 08:06:36|\n",
      "|     TX000007|  AC00199|             7.08|2023-02-15 16:36:48|         Credit|       Seattle| D000241|140.212.253.222|      M019|    ATM|         37|            Doctor|                139|            1|      13316.71|    2024-11-04 08:10:09|\n",
      "|     TX000008|  AC00069|           171.42|2023-05-08 17:47:59|         Credit|  Indianapolis| D000500|  92.214.76.157|      M020| Branch|         67|           Retired|                291|            1|       2796.24|    2024-11-04 08:10:55|\n",
      "|     TX000009|  AC00135|           106.23|2023-03-21 16:59:46|         Credit|       Detroit| D000690|  24.148.92.177|      M035| Branch|         51|          Engineer|                 86|            1|       9095.14|    2024-11-04 08:11:14|\n",
      "|     TX000010|  AC00385|           815.96|2023-03-31 16:06:57|          Debit|     Nashville| D000199|   32.169.88.41|      M007|    ATM|         55|            Doctor|                120|            1|       1021.88|    2024-11-04 08:06:32|\n",
      "|     TX000011|  AC00150|            17.78|2023-03-14 16:46:10|         Credit|   Albuquerque| D000205|   213.15.9.253|      M073| Online|         52|          Engineer|                 59|            1|       7599.52|    2024-11-04 08:06:45|\n",
      "|     TX000012|  AC00459|           190.02|2023-02-06 17:30:00|          Debit|       Memphis| D000589| 116.175.11.222|      M030| Online|         21|           Student|                173|            1|       1528.81|    2024-11-04 08:07:12|\n",
      "|     TX000013|  AC00392|           494.52|2023-06-07 17:21:28|         Credit|          Mesa| D000032| 210.98.198.143|      M057| Branch|         24|           Student|                111|            1|       1620.02|    2024-11-04 08:08:38|\n",
      "|     TX000014|  AC00264|           781.76|2023-11-20 16:39:15|          Debit|       Memphis| D000054|   193.83.0.183|      M025|    ATM|         26|           Student|                123|            1|        189.69|    2024-11-04 08:07:06|\n",
      "|     TX000015|  AC00085|           166.99|2023-02-13 16:53:57|          Debit|    Louisville| D000309| 188.124.181.12|      M017| Online|         18|           Student|                134|            1|        299.93|    2024-11-04 08:10:09|\n",
      "|     TX000016|  AC00270|           465.45|2023-12-12 16:23:31|          Debit|        Denver| D000466| 221.169.49.152|      M025|    ATM|         36|          Engineer|                129|            1|       3465.54|    2024-11-04 08:12:19|\n",
      "|     TX000017|  AC00317|           555.80|2023-10-30 16:52:49|         Credit|        Austin| D000671| 53.218.177.171|      M048| Branch|         19|           Student|                158|            1|       1131.26|    2024-11-04 08:07:35|\n",
      "|     TX000018|  AC00359|           492.93|2023-12-14 18:32:14|          Debit|      Columbus| D000432| 114.223.129.47|      M059| Online|         39|          Engineer|                234|            1|       5109.97|    2024-11-04 08:11:51|\n",
      "|     TX000019|  AC00242|            18.68|2023-02-21 16:56:50|         Credit|   Albuquerque| D000530| 93.218.115.132|      M054| Branch|         59|           Retired|                106|            1|       7948.37|    2024-11-04 08:12:01|\n",
      "|     TX000020|  AC00285|            71.48|2023-06-08 18:18:50|         Credit|      Columbus| D000039|  120.170.93.69|      M039| Online|         18|           Student|                169|            1|       6568.59|    2024-11-04 08:09:20|\n",
      "|     TX000021|  AC00002|            59.32|2023-02-28 16:36:58|          Debit|   Los Angeles| D000152|  116.44.12.250|      M040| Branch|         71|           Retired|                 38|            1|       5750.89|    2024-11-04 08:09:24|\n",
      "|     TX000022|  AC00014|            85.77|2023-08-11 18:31:31|          Debit|     Las Vegas| D000268| 59.132.247.252|      M065| Branch|         38|            Doctor|                 93|            1|       9146.19|    2024-11-04 08:08:13|\n",
      "|     TX000023|  AC00095|            52.20|2023-06-06 18:54:15|          Debit|       Atlanta| D000142|   133.63.96.21|      M022| Online|         39|          Engineer|                120|            1|       8974.93|    2024-11-04 08:07:01|\n",
      "|     TX000024|  AC00453|           345.84|2023-05-02 18:25:46|          Debit|    Fort Worth| D000162| 191.82.103.198|      M083| Online|         22|           Student|                142|            3|       1402.50|    2024-11-04 08:07:04|\n",
      "|     TX000025|  AC00241|           145.54|2023-03-02 16:43:56|          Debit|       Raleigh| D000036|119.186.154.104|      M028| Online|         21|           Student|                 96|            1|       1930.96|    2024-11-04 08:07:09|\n",
      "|     TX000026|  AC00041|             7.49|2023-10-20 17:53:13|         Credit|       Houston| D000671| 81.248.235.147|      M043| Online|         65|           Retired|                276|            1|       3634.67|    2024-11-04 08:09:44|\n",
      "|     TX000027|  AC00441|           246.93|2023-04-17 16:37:01|          Debit|         Miami| D000046| 55.154.161.250|      M029|    ATM|         23|           Student|                158|            5|        673.35|    2024-11-04 08:11:38|\n",
      "|     TX000028|  AC00057|            40.32|2023-03-29 16:42:38|          Debit|     Milwaukee| D000310|     21.28.32.1|      M008| Branch|         37|          Engineer|                 95|            1|       2686.52|    2024-11-04 08:11:59|\n",
      "|     TX000029|  AC00390|           127.45|2023-01-24 16:18:32|          Debit|     Las Vegas| D000232| 152.234.65.155|      M092| Online|         44|            Doctor|                197|            1|       1772.06|    2024-11-04 08:11:22|\n",
      "|     TX000030|  AC00313|            56.17|2023-09-20 16:55:42|          Debit|       Detroit| D000297|   33.28.138.82|      M043| Branch|         27|           Student|                283|            1|       1351.69|    2024-11-04 08:08:30|\n",
      "|     TX000031|  AC00367|            28.31|2023-07-17 17:49:22|         Credit|         Miami| D000587|    35.67.21.23|      M091| Online|         59|            Doctor|                 20|            1|       8334.47|    2024-11-04 08:09:17|\n",
      "|     TX000032|  AC00291|            59.12|2023-02-06 16:24:24|          Debit|     Baltimore| D000282| 187.199.178.27|      M053|    ATM|         29|            Doctor|                257|            1|       9823.64|    2024-11-04 08:06:58|\n",
      "|     TX000033|  AC00060|           396.45|2023-09-25 16:26:00|          Debit|      New York| D000621| 133.67.250.163|      M007|    ATM|         49|          Engineer|                168|            3|       9690.15|    2024-11-04 08:11:13|\n",
      "|     TX000034|  AC00359|           877.81|2023-03-13 17:23:24|          Debit|   Los Angeles| D000111| 134.140.85.231|      M094| Online|         22|           Student|                150|            1|        399.00|    2024-11-04 08:07:50|\n",
      "|     TX000035|  AC00365|           255.26|2023-10-27 16:42:49|         Credit| San Francisco| D000357|  92.214.76.157|      M002| Branch|         45|            Doctor|                 50|            1|      14815.87|    2024-11-04 08:10:51|\n",
      "|     TX000036|  AC00267|           124.76|2023-10-16 16:32:56|          Debit|       Seattle| D000042|  59.145.242.13|      M002| Branch|         49|          Engineer|                 45|            1|       5764.72|    2024-11-04 08:06:23|\n",
      "|     TX000037|  AC00404|            78.13|2023-11-21 16:58:44|          Debit|     Milwaukee| D000250|   33.28.138.82|      M028| Branch|         26|           Student|                145|            1|        900.61|    2024-11-04 08:12:18|\n",
      "|     TX000038|  AC00202|           649.28|2023-03-02 17:53:32|          Debit|      San Jose| D000448|  73.108.76.238|      M074|    ATM|         75|           Retired|                137|            1|       4875.86|    2024-11-04 08:11:15|\n",
      "|     TX000039|  AC00478|           795.31|2023-10-12 17:07:40|          Debit|          Mesa| D000077|   49.29.37.185|      M048|    ATM|         66|            Doctor|                 90|            2|       7914.88|    2024-11-04 08:11:17|\n",
      "|     TX000040|  AC00405|           335.63|2023-01-24 17:17:20|          Debit| Oklahoma City| D000038|  49.20.211.229|      M040| Online|         55|           Retired|                216|            1|       1019.39|    2024-11-04 08:07:32|\n",
      "|     TX000041|  AC00421|           328.47|2023-07-31 18:39:50|          Debit|   San Antonio| D000557|   6.234.101.35|      M014|    ATM|         63|           Retired|                119|            1|       4323.66|    2024-11-04 08:07:31|\n",
      "|     TX000042|  AC00480|            34.02|2023-01-09 16:13:21|          Debit|  Philadelphia| D000627|109.105.179.186|      M046| Online|         38|            Doctor|                 19|            1|      14214.48|    2024-11-04 08:11:45|\n",
      "|     TX000043|  AC00120|           241.42|2023-04-20 18:57:43|         Credit|     Charlotte| D000198|  60.89.202.192|      M044| Online|         57|            Doctor|                116|            1|      13357.02|    2024-11-04 08:09:03|\n",
      "|     TX000044|  AC00117|            55.32|2023-04-12 16:03:37|          Debit|        Tucson| D000197| 173.135.78.201|      M009|    ATM|         19|           Student|                117|            1|        241.79|    2024-11-04 08:08:03|\n",
      "|     TX000045|  AC00011|           304.31|2023-07-26 16:52:28|          Debit|    Louisville| D000685| 77.208.193.198|      M005| Branch|         27|           Student|                 33|            1|        868.61|    2024-11-04 08:09:53|\n",
      "|     TX000046|  AC00401|           435.27|2023-10-04 17:49:29|          Debit|       Chicago| D000297| 197.162.55.147|      M051| Branch|         74|           Retired|                 90|            1|       4673.28|    2024-11-04 08:11:12|\n",
      "|     TX000047|  AC00282|           164.49|2023-12-13 16:01:38|          Debit|     Baltimore| D000103| 113.115.81.178|      M070| Branch|         26|           Student|                 75|            1|       1509.27|    2024-11-04 08:10:33|\n",
      "|     TX000048|  AC00439|           510.24|2023-10-09 16:29:40|          Debit| Oklahoma City| D000397|  186.135.2.148|      M090| Online|         19|           Student|                105|            1|        781.70|    2024-11-04 08:11:35|\n",
      "|     TX000049|  AC00296|           626.90|2023-11-27 16:45:57|          Debit|        Denver| D000284|  93.146.251.20|      M023| Online|         26|           Student|                138|            1|        265.51|    2024-11-04 08:07:24|\n",
      "|     TX000050|  AC00471|            22.01|2023-03-27 16:45:18|         Credit|    Sacramento| D000304|   124.6.134.78|      M055| Online|         41|          Engineer|                175|            1|       1335.09|    2024-11-04 08:06:31|\n",
      "|     TX000051|  AC00159|           425.34|2023-02-13 16:59:39|         Credit|   Kansas City| D000661| 139.23.212.102|      M040| Online|         69|           Retired|                121|            1|       3907.54|    2024-11-04 08:07:07|\n",
      "|     TX000052|  AC00482|           424.56|2023-02-21 17:45:55|          Debit|         Omaha| D000598| 179.43.245.131|      M015| Online|         51|          Engineer|                264|            1|       5183.85|    2024-11-04 08:09:02|\n",
      "|     TX000053|  AC00115|            85.43|2023-06-07 16:45:34|          Debit|Virginia Beach| D000235|  194.174.252.1|      M078| Branch|         67|            Doctor|                145|            1|      14904.90|    2024-11-04 08:06:45|\n",
      "|     TX000054|  AC00055|           169.50|2023-09-07 16:51:27|          Debit|     San Diego| D000442| 42.219.228.159|      M036| Branch|         28|           Student|                142|            1|        918.88|    2024-11-04 08:08:58|\n",
      "|     TX000055|  AC00419|           104.63|2023-03-29 17:47:16|          Debit|         Omaha| D000642|  186.135.2.148|      M095|    ATM|         62|           Retired|                 90|            1|       4477.78|    2024-11-04 08:10:42|\n",
      "|     TX000056|  AC00374|           316.95|2023-08-04 17:53:40|          Debit|          Mesa| D000013|  81.102.230.41|      M052| Branch|         25|           Student|                 83|            1|       1324.03|    2024-11-04 08:09:15|\n",
      "|     TX000057|  AC00271|            60.54|2023-12-14 17:52:37|         Credit|      Columbus| D000462|   1.198.76.182|      M095| Branch|         57|           Retired|                 52|            1|       3534.93|    2024-11-04 08:09:57|\n",
      "|     TX000058|  AC00456|           292.56|2023-03-03 17:37:41|         Credit|        Dallas| D000311| 198.73.211.114|      M075| Branch|         68|           Retired|                 61|            1|       4638.37|    2024-11-04 08:07:49|\n",
      "|     TX000059|  AC00143|           386.52|2023-06-09 16:18:15|          Debit|  Indianapolis| D000145|  186.54.68.246|      M064| Branch|         48|          Engineer|                 28|            1|       5630.61|    2024-11-04 08:07:09|\n",
      "|     TX000060|  AC00427|           112.07|2023-10-02 16:35:22|          Debit|   Kansas City| D000089|198.166.198.233|      M064| Branch|         23|           Student|                 51|            1|        930.30|    2024-11-04 08:11:37|\n",
      "|     TX000061|  AC00438|           568.52|2023-10-06 18:44:37|          Debit|  Indianapolis| D000233| 27.143.109.203|      M094|    ATM|         46|          Engineer|                152|            1|       5499.91|    2024-11-04 08:06:25|\n",
      "|     TX000062|  AC00002|           263.99|2023-05-16 16:07:30|          Debit|        Dallas| D000285|   7.146.35.122|      M087| Branch|         79|           Retired|                227|            2|       4175.02|    2024-11-04 08:11:03|\n",
      "|     TX000063|  AC00425|           349.64|2023-11-07 16:48:23|          Debit|     Las Vegas| D000516|   9.230.41.239|      M097| Online|         48|          Engineer|                226|            1|       6651.62|    2024-11-04 08:08:09|\n",
      "|     TX000064|  AC00325|           601.40|2023-05-30 17:43:25|         Credit|  Philadelphia| D000548|125.225.212.244|      M001| Branch|         56|          Engineer|                104|            1|       8458.29|    2024-11-04 08:08:01|\n",
      "|     TX000065|  AC00434|             5.77|2023-11-02 16:01:40|          Debit|     Charlotte| D000461| 155.164.18.235|      M071| Online|         50|            Doctor|                124|            1|      13988.12|    2024-11-04 08:11:32|\n",
      "|     TX000066|  AC00242|           201.33|2023-03-29 17:00:31|         Credit|     Nashville| D000098|145.246.171.225|      M003| Branch|         42|          Engineer|                186|            1|       2585.07|    2024-11-04 08:11:41|\n",
      "|     TX000067|  AC00319|           298.42|2023-04-25 16:11:24|          Debit|  Indianapolis| D000435|  92.214.76.157|      M005| Branch|         56|           Retired|                225|            1|       3014.75|    2024-11-04 08:10:12|\n",
      "|     TX000068|  AC00460|           521.06|2023-04-18 18:40:47|          Debit|   Albuquerque| D000305|   131.41.45.13|      M063| Branch|         25|           Student|                128|            1|       1951.42|    2024-11-04 08:12:10|\n",
      "|     TX000069|  AC00461|           117.28|2023-02-09 16:34:53|         Credit|        Austin| D000128| 46.150.175.171|      M057| Online|         60|          Engineer|                 16|            1|       3665.77|    2024-11-04 08:07:11|\n",
      "|     TX000070|  AC00395|           189.12|2023-11-13 16:42:28|         Credit|  Indianapolis| D000684| 125.89.163.224|      M040| Branch|         32|          Engineer|                103|            1|        977.01|    2024-11-04 08:08:42|\n",
      "|     TX000071|  AC00217|           133.55|2023-07-18 16:12:00|          Debit|       Atlanta| D000201|  40.226.196.34|      M091|    ATM|         44|          Engineer|                220|            1|       3846.28|    2024-11-04 08:10:18|\n",
      "|     TX000072|  AC00053|           143.21|2023-01-13 17:00:16|          Debit|        Dallas| D000410|   65.164.3.100|      M066| Online|         35|          Engineer|                135|            1|       6374.82|    2024-11-04 08:09:26|\n",
      "|     TX000073|  AC00282|            24.77|2023-07-04 18:20:33|          Debit|        Boston| D000180|   9.230.41.239|      M070|    ATM|         62|           Retired|                 55|            1|       5866.01|    2024-11-04 08:12:15|\n",
      "|     TX000074|  AC00110|           233.92|2023-10-20 16:54:28|         Credit|  Jacksonville| D000295|152.140.239.181|      M046| Online|         26|           Student|                280|            1|       6537.62|    2024-11-04 08:08:45|\n",
      "|     TX000075|  AC00265|          1212.51|2023-10-04 16:36:29|          Debit|  Indianapolis| D000231|   193.83.0.183|      M036| Branch|         20|           Student|                 24|            1|        605.95|    2024-11-04 08:06:51|\n",
      "|     TX000076|  AC00239|           232.12|2023-12-28 17:31:03|          Debit|         Omaha| D000073|156.173.170.140|      M066|    ATM|         37|          Engineer|                 51|            1|       6689.87|    2024-11-04 08:09:17|\n",
      "|     TX000077|  AC00007|           162.63|2023-06-12 17:53:52|          Debit|   Kansas City| D000070|  60.153.124.80|      M060| Online|         22|           Student|                113|            1|        634.17|    2024-11-04 08:08:22|\n",
      "|     TX000078|  AC00022|            91.53|2023-03-13 16:32:12|          Debit|     Milwaukee| D000363|  94.37.250.128|      M095| Branch|         44|            Doctor|                 69|            1|      14676.05|    2024-11-04 08:11:36|\n",
      "|     TX000079|  AC00464|           120.29|2023-12-18 18:46:27|          Debit|         Miami| D000561| 162.198.218.92|      M045| Branch|         19|           Student|                 77|            1|       1362.39|    2024-11-04 08:06:50|\n",
      "|     TX000080|  AC00014|           174.25|2023-07-17 18:54:31|          Debit|       Seattle| D000375|  130.92.201.49|      M032| Online|         50|            Doctor|                 67|            1|      10528.34|    2024-11-04 08:10:29|\n",
      "|     TX000081|  AC00406|           183.71|2023-06-19 18:22:10|          Debit|        Denver| D000488|    86.103.2.29|      M074|    ATM|         38|          Engineer|                102|            1|        552.52|    2024-11-04 08:09:51|\n",
      "|     TX000082|  AC00445|           345.39|2023-10-23 17:13:57|         Credit|       Phoenix| D000097|   131.41.45.13|      M081| Online|         58|          Engineer|                 80|            1|       6451.96|    2024-11-04 08:08:16|\n",
      "|     TX000083|  AC00236|           922.55|2023-01-23 16:32:48|          Debit|       Detroit| D000206|   21.97.154.92|      M004|    ATM|         63|           Retired|                 87|            1|       4715.84|    2024-11-04 08:11:07|\n",
      "|     TX000084|  AC00220|           259.91|2023-11-06 16:34:10|          Debit|        Denver| D000616|  36.13.239.172|      M028| Online|         49|            Doctor|                170|            1|       7176.86|    2024-11-04 08:09:38|\n",
      "|     TX000085|  AC00140|           154.71|2023-07-03 16:40:24|          Debit|     San Diego| D000494|167.104.180.235|      M030| Online|         34|            Doctor|                157|            1|       1523.72|    2024-11-04 08:09:42|\n",
      "|     TX000086|  AC00098|          1340.19|2023-09-29 17:22:10|         Credit|        Austin| D000574| 165.114.224.47|      M012| Online|         54|          Engineer|                 30|            1|       8654.28|    2024-11-04 08:06:53|\n",
      "|     TX000087|  AC00303|            24.56|2023-10-20 17:27:35|          Debit|          Mesa| D000428|   16.131.3.140|      M033| Branch|         64|            Doctor|                 69|            1|       9869.93|    2024-11-04 08:12:05|\n",
      "|     TX000088|  AC00373|           568.07|2023-08-28 17:03:53|          Debit|    Washington| D000018|    8.243.4.138|      M054|    ATM|         48|            Doctor|                115|            1|      10556.81|    2024-11-04 08:07:32|\n",
      "|     TX000089|  AC00438|             9.61|2023-06-22 18:37:29|         Credit|     San Diego| D000453|  132.127.5.187|      M043| Online|         58|            Doctor|                179|            1|      12883.91|    2024-11-04 08:09:10|\n",
      "|     TX000090|  AC00437|           392.96|2023-11-20 16:28:09|          Debit|   Kansas City| D000141|  186.54.68.246|      M022| Online|         24|           Student|                100|            1|        791.65|    2024-11-04 08:08:38|\n",
      "|     TX000091|  AC00106|           716.93|2023-09-14 16:49:33|         Credit|     Milwaukee| D000322| 101.223.82.253|      M052| Online|         60|           Retired|                 34|            1|       4064.02|    2024-11-04 08:08:12|\n",
      "|     TX000092|  AC00310|           223.85|2023-10-02 16:36:10|          Debit|   Kansas City| D000481|133.223.159.151|      M009|    ATM|         53|          Engineer|                 55|            4|       2929.91|    2024-11-04 08:08:01|\n",
      "|     TX000093|  AC00149|           230.66|2023-03-27 18:16:04|          Debit|       Houston| D000526|  60.43.160.195|      M049| Branch|         21|           Student|                135|            1|        618.05|    2024-11-04 08:10:44|\n",
      "|     TX000094|  AC00373|           442.12|2023-12-21 16:37:03|          Debit|   Los Angeles| D000645|  168.36.49.167|      M047| Online|         19|           Student|                260|            1|       1375.80|    2024-11-04 08:08:21|\n",
      "|     TX000095|  AC00425|           644.17|2023-03-02 16:05:09|          Debit|   San Antonio| D000178|  165.38.56.205|      M093|    ATM|         29|          Engineer|                 72|            1|       1143.52|    2024-11-04 08:08:04|\n",
      "|     TX000096|  AC00010|           508.68|2023-06-26 16:16:50|         Credit|          Mesa| D000622| 193.108.17.115|      M048| Branch|         51|          Engineer|                127|            1|       7708.41|    2024-11-04 08:09:32|\n",
      "|     TX000097|  AC00348|           858.63|2023-04-18 17:27:23|         Credit| San Francisco| D000019|175.230.206.232|      M002| Branch|         27|           Student|                185|            1|       1872.96|    2024-11-04 08:10:47|\n",
      "|     TX000098|  AC00011|            25.36|2023-07-17 17:08:24|          Debit|    Louisville| D000192|  62.152.134.92|      M007|    ATM|         57|          Engineer|                 78|            1|        201.04|    2024-11-04 08:11:05|\n",
      "|     TX000099|  AC00453|           147.62|2023-09-01 17:26:02|          Debit|     Charlotte| D000093|  149.84.108.18|      M028| Branch|         71|           Retired|                133|            1|       2115.80|    2024-11-04 08:07:22|\n",
      "|     TX000100|  AC00178|           115.02|2023-09-11 16:19:04|          Debit|   San Antonio| D000528|134.222.122.238|      M004| Branch|         37|            Doctor|                175|            1|       7643.66|    2024-11-04 08:08:38|\n",
      "+-------------+---------+-----------------+-------------------+---------------+--------------+--------+---------------+----------+-------+-----------+------------------+-------------------+-------------+--------------+-----------------------+\n",
      "only showing top 100 rows\n",
      "\n"
     ]
    }
   ],
   "source": [
    "spark.sql(\"\"\" \n",
    "SELECT \n",
    "    TransactionID ,\n",
    "    AccountID ,\n",
    "    TransactionAmount ,\n",
    "    TransactionDate ,\n",
    "    TransactionType ,\n",
    "    Location ,\n",
    "    DeviceID ,\n",
    "    IP_Address ,\n",
    "    MerchantID ,\n",
    "    Channel ,\n",
    "    CustomerAge ,\n",
    "    CustomerOccupation ,\n",
    "    TransactionDuration ,\n",
    "    LoginAttempts ,\n",
    "    AccountBalance ,\n",
    "    PreviousTransactionDate\n",
    "FROM transactions_partitioned\n",
    "\"\"\").show(100)"
   ]
  }
 ],
 "metadata": {
  "kernelspec": {
   "display_name": "Python 3 (ipykernel)",
   "language": "python",
   "name": "python3"
  },
  "language_info": {
   "codemirror_mode": {
    "name": "ipython",
    "version": 3
   },
   "file_extension": ".py",
   "mimetype": "text/x-python",
   "name": "python",
   "nbconvert_exporter": "python",
   "pygments_lexer": "ipython3",
   "version": "3.11.6"
  }
 },
 "nbformat": 4,
 "nbformat_minor": 5
}
